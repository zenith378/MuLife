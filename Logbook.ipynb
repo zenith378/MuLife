{
 "cells": [
  {
   "cell_type": "code",
   "execution_count": 53,
   "id": "9b78497f",
   "metadata": {},
   "outputs": [],
   "source": [
    "import numpy as np\n",
    "import pandas as pd\n",
    "import matplotlib.pyplot as plt"
   ]
  },
  {
   "cell_type": "markdown",
   "id": "d60040b6",
   "metadata": {},
   "source": [
    "# Logbook esperineza MuLife"
   ]
  },
  {
   "cell_type": "markdown",
   "id": "ea78e8cc",
   "metadata": {},
   "source": [
    "## Determinazione Punti di Lavoro PMT"
   ]
  },
  {
   "cell_type": "markdown",
   "id": "5a1cba4d",
   "metadata": {},
   "source": [
    "### 15 Febbraio: \n",
    "cella per scrivere cosa facciamo questo giorno"
   ]
  },
  {
   "cell_type": "code",
   "execution_count": 215,
   "id": "938d612b",
   "metadata": {},
   "outputs": [],
   "source": [
    "df_count = pd.read_csv(\"./data/counts.csv\",sep=\";\")"
   ]
  },
  {
   "cell_type": "code",
   "execution_count": 216,
   "id": "71fdf4ae",
   "metadata": {},
   "outputs": [],
   "source": [
    "df_count['err_V']=df_count['Alimentazione [V]']*0.0005+1\n",
    "df_count['err_1']=np.sqrt(df_count['PMT1'])\n",
    "df_count['err_2']=np.sqrt(df_count['PMT2'])\n",
    "df_count['err_3']=np.sqrt(df_count['PMT3'])"
   ]
  },
  {
   "cell_type": "code",
   "execution_count": 217,
   "id": "b884ed79",
   "metadata": {},
   "outputs": [
    {
     "data": {
      "text/html": [
       "<div>\n",
       "<style scoped>\n",
       "    .dataframe tbody tr th:only-of-type {\n",
       "        vertical-align: middle;\n",
       "    }\n",
       "\n",
       "    .dataframe tbody tr th {\n",
       "        vertical-align: top;\n",
       "    }\n",
       "\n",
       "    .dataframe thead th {\n",
       "        text-align: right;\n",
       "    }\n",
       "</style>\n",
       "<table border=\"1\" class=\"dataframe\">\n",
       "  <thead>\n",
       "    <tr style=\"text-align: right;\">\n",
       "      <th></th>\n",
       "      <th>Alimentazione [V]</th>\n",
       "      <th>PMT1</th>\n",
       "      <th>PMT2</th>\n",
       "      <th>PMT3</th>\n",
       "      <th>err_V</th>\n",
       "      <th>err_1</th>\n",
       "      <th>err_2</th>\n",
       "      <th>err_3</th>\n",
       "    </tr>\n",
       "  </thead>\n",
       "  <tbody>\n",
       "    <tr>\n",
       "      <th>0</th>\n",
       "      <td>1500</td>\n",
       "      <td>0</td>\n",
       "      <td>4</td>\n",
       "      <td>12</td>\n",
       "      <td>1.7500</td>\n",
       "      <td>0.000000</td>\n",
       "      <td>2.000000</td>\n",
       "      <td>3.464102</td>\n",
       "    </tr>\n",
       "    <tr>\n",
       "      <th>1</th>\n",
       "      <td>1525</td>\n",
       "      <td>1</td>\n",
       "      <td>11</td>\n",
       "      <td>27</td>\n",
       "      <td>1.7625</td>\n",
       "      <td>1.000000</td>\n",
       "      <td>3.316625</td>\n",
       "      <td>5.196152</td>\n",
       "    </tr>\n",
       "    <tr>\n",
       "      <th>2</th>\n",
       "      <td>1550</td>\n",
       "      <td>6</td>\n",
       "      <td>31</td>\n",
       "      <td>177</td>\n",
       "      <td>1.7750</td>\n",
       "      <td>2.449490</td>\n",
       "      <td>5.567764</td>\n",
       "      <td>13.304135</td>\n",
       "    </tr>\n",
       "    <tr>\n",
       "      <th>3</th>\n",
       "      <td>1575</td>\n",
       "      <td>9</td>\n",
       "      <td>63</td>\n",
       "      <td>581</td>\n",
       "      <td>1.7875</td>\n",
       "      <td>3.000000</td>\n",
       "      <td>7.937254</td>\n",
       "      <td>24.103942</td>\n",
       "    </tr>\n",
       "    <tr>\n",
       "      <th>4</th>\n",
       "      <td>1600</td>\n",
       "      <td>31</td>\n",
       "      <td>182</td>\n",
       "      <td>1298</td>\n",
       "      <td>1.8000</td>\n",
       "      <td>5.567764</td>\n",
       "      <td>13.490738</td>\n",
       "      <td>36.027767</td>\n",
       "    </tr>\n",
       "    <tr>\n",
       "      <th>5</th>\n",
       "      <td>1625</td>\n",
       "      <td>63</td>\n",
       "      <td>292</td>\n",
       "      <td>1933</td>\n",
       "      <td>1.8125</td>\n",
       "      <td>7.937254</td>\n",
       "      <td>17.088007</td>\n",
       "      <td>43.965896</td>\n",
       "    </tr>\n",
       "    <tr>\n",
       "      <th>6</th>\n",
       "      <td>1650</td>\n",
       "      <td>186</td>\n",
       "      <td>485</td>\n",
       "      <td>2849</td>\n",
       "      <td>1.8250</td>\n",
       "      <td>13.638182</td>\n",
       "      <td>22.022716</td>\n",
       "      <td>53.376025</td>\n",
       "    </tr>\n",
       "    <tr>\n",
       "      <th>7</th>\n",
       "      <td>1675</td>\n",
       "      <td>364</td>\n",
       "      <td>826</td>\n",
       "      <td>5438</td>\n",
       "      <td>1.8375</td>\n",
       "      <td>19.078784</td>\n",
       "      <td>28.740216</td>\n",
       "      <td>73.742796</td>\n",
       "    </tr>\n",
       "    <tr>\n",
       "      <th>8</th>\n",
       "      <td>1700</td>\n",
       "      <td>601</td>\n",
       "      <td>1111</td>\n",
       "      <td>23432</td>\n",
       "      <td>1.8500</td>\n",
       "      <td>24.515301</td>\n",
       "      <td>33.331667</td>\n",
       "      <td>153.075145</td>\n",
       "    </tr>\n",
       "    <tr>\n",
       "      <th>9</th>\n",
       "      <td>1725</td>\n",
       "      <td>874</td>\n",
       "      <td>1883</td>\n",
       "      <td>60412</td>\n",
       "      <td>1.8625</td>\n",
       "      <td>29.563491</td>\n",
       "      <td>43.393548</td>\n",
       "      <td>245.788527</td>\n",
       "    </tr>\n",
       "    <tr>\n",
       "      <th>10</th>\n",
       "      <td>1750</td>\n",
       "      <td>2077</td>\n",
       "      <td>4549</td>\n",
       "      <td>91147</td>\n",
       "      <td>1.8750</td>\n",
       "      <td>45.574115</td>\n",
       "      <td>67.446275</td>\n",
       "      <td>301.905614</td>\n",
       "    </tr>\n",
       "    <tr>\n",
       "      <th>11</th>\n",
       "      <td>1775</td>\n",
       "      <td>10979</td>\n",
       "      <td>7787</td>\n",
       "      <td>118266</td>\n",
       "      <td>1.8875</td>\n",
       "      <td>104.780723</td>\n",
       "      <td>88.243980</td>\n",
       "      <td>343.898241</td>\n",
       "    </tr>\n",
       "    <tr>\n",
       "      <th>12</th>\n",
       "      <td>1800</td>\n",
       "      <td>31783</td>\n",
       "      <td>10069</td>\n",
       "      <td>139454</td>\n",
       "      <td>1.9000</td>\n",
       "      <td>178.277873</td>\n",
       "      <td>100.344407</td>\n",
       "      <td>373.435403</td>\n",
       "    </tr>\n",
       "    <tr>\n",
       "      <th>13</th>\n",
       "      <td>1825</td>\n",
       "      <td>50880</td>\n",
       "      <td>10793</td>\n",
       "      <td>164339</td>\n",
       "      <td>1.9125</td>\n",
       "      <td>225.565955</td>\n",
       "      <td>103.889364</td>\n",
       "      <td>405.387469</td>\n",
       "    </tr>\n",
       "    <tr>\n",
       "      <th>14</th>\n",
       "      <td>1850</td>\n",
       "      <td>62821</td>\n",
       "      <td>11703</td>\n",
       "      <td>188011</td>\n",
       "      <td>1.9250</td>\n",
       "      <td>250.641178</td>\n",
       "      <td>108.180405</td>\n",
       "      <td>433.602352</td>\n",
       "    </tr>\n",
       "    <tr>\n",
       "      <th>15</th>\n",
       "      <td>1875</td>\n",
       "      <td>69648</td>\n",
       "      <td>12665</td>\n",
       "      <td>231435</td>\n",
       "      <td>1.9375</td>\n",
       "      <td>263.909075</td>\n",
       "      <td>112.538882</td>\n",
       "      <td>481.076917</td>\n",
       "    </tr>\n",
       "    <tr>\n",
       "      <th>16</th>\n",
       "      <td>1900</td>\n",
       "      <td>74396</td>\n",
       "      <td>13281</td>\n",
       "      <td>274960</td>\n",
       "      <td>1.9500</td>\n",
       "      <td>272.756301</td>\n",
       "      <td>115.243221</td>\n",
       "      <td>524.366284</td>\n",
       "    </tr>\n",
       "    <tr>\n",
       "      <th>17</th>\n",
       "      <td>1925</td>\n",
       "      <td>77031</td>\n",
       "      <td>14377</td>\n",
       "      <td>344724</td>\n",
       "      <td>1.9625</td>\n",
       "      <td>277.544591</td>\n",
       "      <td>119.904128</td>\n",
       "      <td>587.132012</td>\n",
       "    </tr>\n",
       "    <tr>\n",
       "      <th>18</th>\n",
       "      <td>1950</td>\n",
       "      <td>80927</td>\n",
       "      <td>15775</td>\n",
       "      <td>485614</td>\n",
       "      <td>1.9750</td>\n",
       "      <td>284.476713</td>\n",
       "      <td>125.598567</td>\n",
       "      <td>696.860101</td>\n",
       "    </tr>\n",
       "    <tr>\n",
       "      <th>19</th>\n",
       "      <td>1975</td>\n",
       "      <td>88259</td>\n",
       "      <td>17174</td>\n",
       "      <td>663856</td>\n",
       "      <td>1.9875</td>\n",
       "      <td>297.084163</td>\n",
       "      <td>131.049609</td>\n",
       "      <td>814.773588</td>\n",
       "    </tr>\n",
       "  </tbody>\n",
       "</table>\n",
       "</div>"
      ],
      "text/plain": [
       "    Alimentazione [V]   PMT1   PMT2    PMT3   err_V       err_1       err_2  \\\n",
       "0                1500      0      4      12  1.7500    0.000000    2.000000   \n",
       "1                1525      1     11      27  1.7625    1.000000    3.316625   \n",
       "2                1550      6     31     177  1.7750    2.449490    5.567764   \n",
       "3                1575      9     63     581  1.7875    3.000000    7.937254   \n",
       "4                1600     31    182    1298  1.8000    5.567764   13.490738   \n",
       "5                1625     63    292    1933  1.8125    7.937254   17.088007   \n",
       "6                1650    186    485    2849  1.8250   13.638182   22.022716   \n",
       "7                1675    364    826    5438  1.8375   19.078784   28.740216   \n",
       "8                1700    601   1111   23432  1.8500   24.515301   33.331667   \n",
       "9                1725    874   1883   60412  1.8625   29.563491   43.393548   \n",
       "10               1750   2077   4549   91147  1.8750   45.574115   67.446275   \n",
       "11               1775  10979   7787  118266  1.8875  104.780723   88.243980   \n",
       "12               1800  31783  10069  139454  1.9000  178.277873  100.344407   \n",
       "13               1825  50880  10793  164339  1.9125  225.565955  103.889364   \n",
       "14               1850  62821  11703  188011  1.9250  250.641178  108.180405   \n",
       "15               1875  69648  12665  231435  1.9375  263.909075  112.538882   \n",
       "16               1900  74396  13281  274960  1.9500  272.756301  115.243221   \n",
       "17               1925  77031  14377  344724  1.9625  277.544591  119.904128   \n",
       "18               1950  80927  15775  485614  1.9750  284.476713  125.598567   \n",
       "19               1975  88259  17174  663856  1.9875  297.084163  131.049609   \n",
       "\n",
       "         err_3  \n",
       "0     3.464102  \n",
       "1     5.196152  \n",
       "2    13.304135  \n",
       "3    24.103942  \n",
       "4    36.027767  \n",
       "5    43.965896  \n",
       "6    53.376025  \n",
       "7    73.742796  \n",
       "8   153.075145  \n",
       "9   245.788527  \n",
       "10  301.905614  \n",
       "11  343.898241  \n",
       "12  373.435403  \n",
       "13  405.387469  \n",
       "14  433.602352  \n",
       "15  481.076917  \n",
       "16  524.366284  \n",
       "17  587.132012  \n",
       "18  696.860101  \n",
       "19  814.773588  "
      ]
     },
     "execution_count": 217,
     "metadata": {},
     "output_type": "execute_result"
    }
   ],
   "source": [
    "df_count"
   ]
  },
  {
   "cell_type": "code",
   "execution_count": 293,
   "id": "102e717e",
   "metadata": {},
   "outputs": [
    {
     "data": {
      "image/png": "[encoded data removed]",
      "text/plain": [
       "<Figure size 432x288 with 1 Axes>"
      ]
     },
     "metadata": {
      "needs_background": "light"
     },
     "output_type": "display_data"
    }
   ],
   "source": [
    "fig = plt.figure()\n",
    "\n",
    "plt.errorbar(df_count['Alimentazione [V]'],df_count['PMT1'],\n",
    "             xerr=df_count['err_V'],yerr=df_count['err_1'],linestyle='None',elinewidth=1,label='PMT1')\n",
    "\n",
    "plt.errorbar(df_count['Alimentazione [V]'],df_count['PMT2'],\n",
    "             xerr=df_count['err_V'],yerr=df_count['err_2'],linestyle='None',elinewidth=1,label='PMT2')\n",
    "\n",
    "plt.errorbar(df_count['Alimentazione [V]'],df_count['PMT3'],\n",
    "             xerr=df_count['err_V'],yerr=df_count['err_3'],linestyle='None',elinewidth=1,label='PMT3')\n",
    "\n",
    "fig.text(0.69, 0.31, \"x Errorbars multiplied by 2\", fontsize=10, \n",
    "         ha='center',bbox={'facecolor': 'white', 'alpha': 0.5, 'pad': 10})\n",
    "\n",
    "plt.xlabel('Voltage source [V]')\n",
    "plt.ylabel('Counts')\n",
    "plt.title('Counts vs voltage source')\n",
    "plt.legend()\n",
    "plt.yscale('log')\n",
    "plt.savefig('./plots/counts123_new.pdf')\n",
    "plt.show()"
   ]
  },
  {
   "cell_type": "code",
   "execution_count": 249,
   "id": "e3ca149d",
   "metadata": {},
   "outputs": [],
   "source": [
    "df_count_print=df_count.copy()\n",
    "df_count_print[\"Alimentazione [V]\"] = df_count[\"Alimentazione [V]\"].astype(str) + '±' + df_count[\"err_V\"].round(0).astype(int).astype(str)\n",
    "df_count_print['Counts 1']=df_count[\"PMT1\"].astype(str) + '±' + df_count[\"err_1\"].round(0).astype(int).astype(str)\n",
    "df_count_print['Counts 2']=df_count[\"PMT2\"].astype(str) + '±' + df_count[\"err_2\"].round(0).astype(int).astype(str)\n",
    "df_count_print['Counts 3']=df_count[\"PMT3\"].astype(str) + '±' + df_count[\"err_3\"].round(0).astype(int).astype(str)\n",
    "df_count_print.drop(['err_1','err_2','err_3', 'err_V','PMT1','PMT2','PMT3'],axis=1,inplace=True)"
   ]
  },
  {
   "cell_type": "code",
   "execution_count": 251,
   "id": "8237cf87",
   "metadata": {},
   "outputs": [
    {
     "name": "stdout",
     "output_type": "stream",
     "text": [
      "\\begin{tabular}{llll}\n",
      "\\toprule\n",
      "Alimentazione [V] &  Counts 1 &  Counts 2 &   Counts 3 \\\\\n",
      "\\midrule\n",
      "           1500±2 &       0±0 &       4±2 &       12±3 \\\\\n",
      "           1525±2 &       1±1 &      11±3 &       27±5 \\\\\n",
      "           1550±2 &       6±2 &      31±6 &     177±13 \\\\\n",
      "           1575±2 &       9±3 &      63±8 &     581±24 \\\\\n",
      "           1600±2 &      31±6 &    182±13 &    1298±36 \\\\\n",
      "           1625±2 &      63±8 &    292±17 &    1933±44 \\\\\n",
      "           1650±2 &    186±14 &    485±22 &    2849±53 \\\\\n",
      "           1675±2 &    364±19 &    826±29 &    5438±74 \\\\\n",
      "           1700±2 &    601±25 &   1111±33 &  23432±153 \\\\\n",
      "           1725±2 &    874±30 &   1883±43 &  60412±246 \\\\\n",
      "           1750±2 &   2077±46 &   4549±67 &  91147±302 \\\\\n",
      "           1775±2 & 10979±105 &   7787±88 & 118266±344 \\\\\n",
      "           1800±2 & 31783±178 & 10069±100 & 139454±373 \\\\\n",
      "           1825±2 & 50880±226 & 10793±104 & 164339±405 \\\\\n",
      "           1850±2 & 62821±251 & 11703±108 & 188011±434 \\\\\n",
      "           1875±2 & 69648±264 & 12665±113 & 231435±481 \\\\\n",
      "           1900±2 & 74396±273 & 13281±115 & 274960±524 \\\\\n",
      "           1925±2 & 77031±278 & 14377±120 & 344724±587 \\\\\n",
      "           1950±2 & 80927±284 & 15775±126 & 485614±697 \\\\\n",
      "           1975±2 & 88259±297 & 17174±131 & 663856±815 \\\\\n",
      "\\bottomrule\n",
      "\\end{tabular}\n",
      "\n"
     ]
    }
   ],
   "source": [
    "print(df_count_print.to_latex(index=False))"
   ]
  },
  {
   "cell_type": "markdown",
   "id": "39d5d02c",
   "metadata": {},
   "source": [
    "## Segnale di Start"
   ]
  },
  {
   "cell_type": "markdown",
   "id": "5be09c80",
   "metadata": {},
   "source": [
    "## Segnale di Stop"
   ]
  },
  {
   "cell_type": "markdown",
   "id": "f5fdccb8",
   "metadata": {},
   "source": [
    "## Acquisizione segnali con FPGA"
   ]
  },
  {
   "cell_type": "markdown",
   "id": "a3a5cb14",
   "metadata": {},
   "source": [
    "## Prima Acquisizione dati per MuLife"
   ]
  },
  {
   "cell_type": "markdown",
   "id": "53dcfde1",
   "metadata": {},
   "source": [
    "## Errori Sistematici"
   ]
  },
  {
   "cell_type": "markdown",
   "id": "556d575f",
   "metadata": {},
   "source": [
    "## Alterazione vita media del muone negativo dalla interazione con il materiale scintillatore"
   ]
  },
  {
   "cell_type": "markdown",
   "id": "57414a22",
   "metadata": {},
   "source": [
    "## Spettro in energia dell'elettrone di decadimento"
   ]
  },
  {
   "cell_type": "markdown",
   "id": "5a02795b",
   "metadata": {},
   "source": [
    "### Calibrazione del modulo di amplificazione di carica"
   ]
  },
  {
   "cell_type": "markdown",
   "id": "855ebb2b",
   "metadata": {},
   "source": [
    "### Altro..."
   ]
  },
  {
   "cell_type": "markdown",
   "id": "d7c09aad",
   "metadata": {},
   "source": [
    "## Efficienza PMTs"
   ]
  },
  {
   "cell_type": "code",
   "execution_count": 187,
   "id": "de8fc629",
   "metadata": {},
   "outputs": [],
   "source": [
    "df_eff2 = pd.read_csv(\"./data/eff2.txt\",sep=\"\\t\")\n"
   ]
  },
  {
   "cell_type": "code",
   "execution_count": 188,
   "id": "b76c360b",
   "metadata": {},
   "outputs": [],
   "source": [
    "df_eff2['doppie_acc']=df_eff2['1']*df_eff2['3']*98*10**(-11)\n",
    "df_eff2['err1']=np.sqrt(df_eff2['1'])\n",
    "df_eff2['err2']=np.sqrt(df_eff2['2'])\n",
    "df_eff2['err3']=np.sqrt(df_eff2['3'])"
   ]
  },
  {
   "cell_type": "code",
   "execution_count": 299,
   "id": "47b4993c",
   "metadata": {},
   "outputs": [],
   "source": [
    "df_eff2['efficienza']=df_eff2['1&2&3']/(df_eff2['1&3']-df_eff2['doppie_acc'])\n",
    "df_eff2['err_V']=(df_eff2['V']*0.0005+1)\n",
    "df_eff2['err_eff']=np.sqrt(df_eff2['efficienza']*(1-df_eff2['efficienza'])/(df_eff2['1&3']-df_eff2['doppie_acc']))\n",
    "df_eff2['err_tri']=np.sqrt(df_eff2['efficienza']*(1-df_eff2['efficienza'])*(df_eff2['1&3']-df_eff2['doppie_acc']))"
   ]
  },
  {
   "cell_type": "code",
   "execution_count": 300,
   "id": "9777dbb4",
   "metadata": {},
   "outputs": [
    {
     "data": {
      "text/html": [
       "<div>\n",
       "<style scoped>\n",
       "    .dataframe tbody tr th:only-of-type {\n",
       "        vertical-align: middle;\n",
       "    }\n",
       "\n",
       "    .dataframe tbody tr th {\n",
       "        vertical-align: top;\n",
       "    }\n",
       "\n",
       "    .dataframe thead th {\n",
       "        text-align: right;\n",
       "    }\n",
       "</style>\n",
       "<table border=\"1\" class=\"dataframe\">\n",
       "  <thead>\n",
       "    <tr style=\"text-align: right;\">\n",
       "      <th></th>\n",
       "      <th>V</th>\n",
       "      <th>1</th>\n",
       "      <th>2</th>\n",
       "      <th>3</th>\n",
       "      <th>1&amp;3</th>\n",
       "      <th>1&amp;2&amp;3</th>\n",
       "      <th>doppie_acc</th>\n",
       "      <th>err1</th>\n",
       "      <th>err2</th>\n",
       "      <th>err3</th>\n",
       "      <th>efficienza</th>\n",
       "      <th>err_V</th>\n",
       "      <th>err_eff</th>\n",
       "      <th>err_tri</th>\n",
       "    </tr>\n",
       "  </thead>\n",
       "  <tbody>\n",
       "    <tr>\n",
       "      <th>0</th>\n",
       "      <td>1500</td>\n",
       "      <td>117786</td>\n",
       "      <td>43</td>\n",
       "      <td>124865</td>\n",
       "      <td>1787</td>\n",
       "      <td>14</td>\n",
       "      <td>14.413202</td>\n",
       "      <td>343.199650</td>\n",
       "      <td>6.557439</td>\n",
       "      <td>353.362420</td>\n",
       "      <td>0.007898</td>\n",
       "      <td>1.7500</td>\n",
       "      <td>0.002102</td>\n",
       "      <td>3.726852</td>\n",
       "    </tr>\n",
       "    <tr>\n",
       "      <th>1</th>\n",
       "      <td>1525</td>\n",
       "      <td>118337</td>\n",
       "      <td>116</td>\n",
       "      <td>127691</td>\n",
       "      <td>1861</td>\n",
       "      <td>28</td>\n",
       "      <td>14.808358</td>\n",
       "      <td>344.001453</td>\n",
       "      <td>10.770330</td>\n",
       "      <td>357.338775</td>\n",
       "      <td>0.015166</td>\n",
       "      <td>1.7625</td>\n",
       "      <td>0.002844</td>\n",
       "      <td>5.251223</td>\n",
       "    </tr>\n",
       "    <tr>\n",
       "      <th>2</th>\n",
       "      <td>1550</td>\n",
       "      <td>114947</td>\n",
       "      <td>300</td>\n",
       "      <td>125546</td>\n",
       "      <td>1828</td>\n",
       "      <td>80</td>\n",
       "      <td>14.142513</td>\n",
       "      <td>339.038346</td>\n",
       "      <td>17.320508</td>\n",
       "      <td>354.324710</td>\n",
       "      <td>0.044105</td>\n",
       "      <td>1.7750</td>\n",
       "      <td>0.004821</td>\n",
       "      <td>8.744805</td>\n",
       "    </tr>\n",
       "    <tr>\n",
       "      <th>3</th>\n",
       "      <td>1575</td>\n",
       "      <td>128549</td>\n",
       "      <td>757</td>\n",
       "      <td>129436</td>\n",
       "      <td>1827</td>\n",
       "      <td>249</td>\n",
       "      <td>16.306091</td>\n",
       "      <td>358.537306</td>\n",
       "      <td>27.513633</td>\n",
       "      <td>359.772150</td>\n",
       "      <td>0.137516</td>\n",
       "      <td>1.7875</td>\n",
       "      <td>0.008093</td>\n",
       "      <td>14.654639</td>\n",
       "    </tr>\n",
       "    <tr>\n",
       "      <th>4</th>\n",
       "      <td>1600</td>\n",
       "      <td>127551</td>\n",
       "      <td>1751</td>\n",
       "      <td>131284</td>\n",
       "      <td>1843</td>\n",
       "      <td>587</td>\n",
       "      <td>16.410497</td>\n",
       "      <td>357.142829</td>\n",
       "      <td>41.844952</td>\n",
       "      <td>362.331340</td>\n",
       "      <td>0.321364</td>\n",
       "      <td>1.8000</td>\n",
       "      <td>0.010927</td>\n",
       "      <td>19.958942</td>\n",
       "    </tr>\n",
       "  </tbody>\n",
       "</table>\n",
       "</div>"
      ],
      "text/plain": [
       "      V       1     2       3   1&3  1&2&3  doppie_acc        err1       err2  \\\n",
       "0  1500  117786    43  124865  1787     14   14.413202  343.199650   6.557439   \n",
       "1  1525  118337   116  127691  1861     28   14.808358  344.001453  10.770330   \n",
       "2  1550  114947   300  125546  1828     80   14.142513  339.038346  17.320508   \n",
       "3  1575  128549   757  129436  1827    249   16.306091  358.537306  27.513633   \n",
       "4  1600  127551  1751  131284  1843    587   16.410497  357.142829  41.844952   \n",
       "\n",
       "         err3  efficienza   err_V   err_eff    err_tri  \n",
       "0  353.362420    0.007898  1.7500  0.002102   3.726852  \n",
       "1  357.338775    0.015166  1.7625  0.002844   5.251223  \n",
       "2  354.324710    0.044105  1.7750  0.004821   8.744805  \n",
       "3  359.772150    0.137516  1.7875  0.008093  14.654639  \n",
       "4  362.331340    0.321364  1.8000  0.010927  19.958942  "
      ]
     },
     "execution_count": 300,
     "metadata": {},
     "output_type": "execute_result"
    }
   ],
   "source": [
    "df_eff2.head()"
   ]
  },
  {
   "cell_type": "code",
   "execution_count": 142,
   "id": "8360fc46",
   "metadata": {},
   "outputs": [
    {
     "data": {
      "image/png": "[encoded data removed]",
      "text/plain": [
       "<Figure size 432x288 with 1 Axes>"
      ]
     },
     "metadata": {
      "needs_background": "light"
     },
     "output_type": "display_data"
    }
   ],
   "source": [
    "fig_4=df_eff2.plot(x='V',y='efficienza',\n",
    "             title='Efficiency vs voltage source', \n",
    "             xlabel='Voltage source [v]',ylabel='Efficiency',xerr='err_V',yerr='err_eff',style='.',color='green',linestyle='None'\n",
    "                ).get_figure()"
   ]
  },
  {
   "cell_type": "code",
   "execution_count": 45,
   "id": "84c3ae4c",
   "metadata": {},
   "outputs": [],
   "source": [
    "fig_4.savefig('./plots/eff_2.pdf')"
   ]
  },
  {
   "cell_type": "code",
   "execution_count": 307,
   "id": "1d0b7ca7",
   "metadata": {},
   "outputs": [
    {
     "data": {
      "image/png": "[encoded data removed]",
      "text/plain": [
       "<Figure size 432x288 with 1 Axes>"
      ]
     },
     "metadata": {
      "needs_background": "light"
     },
     "output_type": "display_data"
    }
   ],
   "source": [
    "df_eff3 = pd.read_csv(\"./data/eff3.txt\",sep=\"\\t\")\n",
    "df_eff3['doppie_acc']=df_eff3['1']*df_eff3['2']*98*10**(-11)\n",
    "df_eff3['err1']=np.sqrt(df_eff3['1'])\n",
    "df_eff3['err2']=np.sqrt(df_eff3['2'])\n",
    "df_eff3['err3']=np.sqrt(df_eff3['3'])\n",
    "df_eff3['efficienza']=df_eff3['1&2&3']/(df_eff3['1&2']-df_eff3['doppie_acc'])\n",
    "df_eff3['err_V']=(df_eff3['V']*0.0005+1)\n",
    "df_eff3['err_eff']=np.sqrt(df_eff3['efficienza']*(1-df_eff3['efficienza'])/(df_eff3['1&2']-df_eff3['doppie_acc']))\n",
    "df_eff3['err_tri']=np.sqrt(df_eff3['efficienza']*(1-df_eff3['efficienza'])*(df_eff3['1&2']-df_eff3['doppie_acc']))\n",
    "fig_4=df_eff3.plot(x='V',y='efficienza',\n",
    "             title='Efficiency vs voltage source', \n",
    "             xlabel='Voltage source [v]',ylabel='Efficiency',xerr='err_V',yerr='err_eff',style='.',color='green',linestyle='None'\n",
    "                ).get_figure()"
   ]
  },
  {
   "cell_type": "code",
   "execution_count": 62,
   "id": "7494c35f",
   "metadata": {},
   "outputs": [
    {
     "data": {
      "image/png": "[encoded data removed]",
      "text/plain": [
       "<Figure size 432x288 with 1 Axes>"
      ]
     },
     "metadata": {
      "needs_background": "light"
     },
     "output_type": "display_data"
    }
   ],
   "source": [
    "df_eff1 = pd.read_csv(\"./data/eff1.txt\",sep=\"\\t\")\n",
    "df_eff1['efficienza1']=df_eff1['1&2&3']/df_eff1['2&3']\n",
    "df_eff1['err_V1']=(df_eff1['V1']*0.0005+1)*2\n",
    "df_eff1['err_eff1']=np.sqrt(df_eff1['efficienza1']*(1-df_eff1['efficienza1'])/df_eff1['2&3'])*2\n",
    "fig_4=df_eff1.plot(x='V1',y='efficienza1',\n",
    "             title='Efficiency vs voltage source', \n",
    "             xlabel='Voltage source [v]',ylabel='Efficiency',xerr='err_V1',yerr='err_eff1',style='.',color='green',linestyle='None'\n",
    "                ).get_figure()"
   ]
  },
  {
   "cell_type": "code",
   "execution_count": 296,
   "id": "32cd9074",
   "metadata": {},
   "outputs": [
    {
     "data": {
      "image/png": "[encoded data removed]",
      "text/plain": [
       "<Figure size 432x288 with 1 Axes>"
      ]
     },
     "metadata": {
      "needs_background": "light"
     },
     "output_type": "display_data"
    }
   ],
   "source": [
    "fig = plt.figure()\n",
    "\n",
    "plt.errorbar(df_eff2['V'],df_eff2['efficienza'],\n",
    "             xerr=2*df_eff2['err_V'],yerr=2*df_eff2['err_eff'],label='PMT2',linestyle='None',elinewidth=1,\n",
    "             ecolor='#ff7f0e')\n",
    "\n",
    "plt.errorbar(df_eff3['V'],df_eff3['efficienza'],\n",
    "\n",
    "             xerr=2*df_eff3['err_V'],yerr=2*df_eff3['err_eff'],label='PMT3',linestyle='None',elinewidth=1,\n",
    "             ecolor='#2ca02c')\n",
    "\n",
    "fig.text(0.65, 0.37, \"Errorbars multiplied by 2\", fontsize=10, \n",
    "         ha='center',bbox={'facecolor': 'white', 'alpha': 0.5, 'pad': 10})\n",
    "\n",
    "plt.xlabel('Voltage source [V]')\n",
    "plt.ylabel('Efficiency')\n",
    "plt.title('Efficiency vs voltage source')\n",
    "plt.legend()\n",
    "plt.savefig('./plots/eff.pdf')\n",
    "plt.show()"
   ]
  },
  {
   "cell_type": "code",
   "execution_count": 303,
   "id": "78fc4fc9",
   "metadata": {},
   "outputs": [],
   "source": [
    "df_eff2_print=df_eff2.copy()"
   ]
  },
  {
   "cell_type": "code",
   "execution_count": 304,
   "id": "b3ddedd6",
   "metadata": {},
   "outputs": [],
   "source": [
    "df_eff2_print[\"V\"] = df_eff2[\"V\"].astype(str) + '±' + df_eff2[\"err_V\"].round(0).astype(int).astype(str)\n",
    "df_eff2_print['1']=df_eff2[\"1\"].astype(str) + '±' + df_eff2[\"err1\"].round(0).astype(int).astype(str)\n",
    "df_eff2_print['2']=df_eff2[\"2\"].astype(str) + '±' + df_eff2[\"err2\"].round(0).astype(int).astype(str)\n",
    "df_eff2_print['3']=df_eff2[\"3\"].astype(str) + '±' + df_eff2[\"err3\"].round(0).astype(int).astype(str)\n",
    "df_eff2_print['efficienza']=df_eff2[\"efficienza\"].round(3).astype(str) + '±' + df_eff2[\"err_eff\"].round(3).astype(str)\n",
    "df_eff2_print['doppie_acc']=df_eff2_print['doppie_acc'].round(2)\n",
    "df_eff2_print['1&2&3']=df_eff2[\"1&2&3\"].astype(str) + '±' + df_eff2[\"err_tri\"].round(0).astype(int).astype(str)"
   ]
  },
  {
   "cell_type": "code",
   "execution_count": 305,
   "id": "42da3152",
   "metadata": {},
   "outputs": [
    {
     "name": "stdout",
     "output_type": "stream",
     "text": [
      "\\begin{tabular}{llllrlrl}\n",
      "\\toprule\n",
      "     V &          1 &          2 &          3 &  1\\&3 &   1\\&2\\&3 &  doppie\\_acc &  efficienza \\\\\n",
      "\\midrule\n",
      "1500±2 & 117786±343 &       43±7 & 124865±353 & 1787 &    14±4 &       14.41 & 0.008±0.002 \\\\\n",
      "1525±2 & 118337±344 &     116±11 & 127691±357 & 1861 &    28±5 &       14.81 & 0.015±0.003 \\\\\n",
      "1550±2 & 114947±339 &     300±17 & 125546±354 & 1828 &    80±9 &       14.14 & 0.044±0.005 \\\\\n",
      "1575±2 & 128549±359 &     757±28 & 129436±360 & 1827 &  249±15 &       16.31 & 0.138±0.008 \\\\\n",
      "1600±2 & 127551±357 &    1751±42 & 131284±362 & 1843 &  587±20 &       16.41 & 0.321±0.011 \\\\\n",
      "1625±2 & 128204±358 &    3351±58 & 134213±366 & 1859 & 1119±21 &       16.86 & 0.607±0.011 \\\\\n",
      "1650±2 & 128634±359 &    5329±73 & 131384±362 & 1890 & 1428±18 &       16.56 &  0.762±0.01 \\\\\n",
      "1675±2 & 128860±359 &    7889±89 & 128064±358 & 1848 & 1571±15 &       16.17 & 0.858±0.008 \\\\\n",
      "1700±2 & 128641±359 &  11111±105 & 129291±360 & 1875 & 1662±13 &       16.30 & 0.894±0.007 \\\\\n",
      "1725±2 & 129554±360 &  18862±137 & 130067±361 & 1815 & 1660±11 &       16.51 & 0.923±0.006 \\\\\n",
      "1750±2 & 127625±357 &  43924±210 & 130924±362 & 1834 & 1695±11 &       16.37 & 0.933±0.006 \\\\\n",
      "1775±2 & 119732±346 &  70821±266 & 131098±362 & 1859 & 1727±10 &       15.38 & 0.937±0.006 \\\\\n",
      "1800±2 & 130415±361 &  91787±303 & 135149±368 & 1829 & 1710±10 &       17.27 & 0.944±0.005 \\\\\n",
      "1825±2 & 119721±346 & 100983±318 & 130939±362 & 1877 & 1757±10 &       15.36 & 0.944±0.005 \\\\\n",
      "1850±2 & 129063±359 & 108456±329 & 136933±370 & 1803 &  1695±9 &       17.32 & 0.949±0.005 \\\\\n",
      "1875±2 & 121924±349 & 115721±340 & 131275±362 & 1818 & 1707±10 &       15.69 & 0.947±0.005 \\\\\n",
      "1900±2 & 129124±359 & 124731±353 & 139023±373 & 1906 & 1778±10 &       17.59 & 0.942±0.005 \\\\\n",
      "1925±2 & 129222±359 & 133572±365 & 136182±369 & 1868 & 1744±10 &       17.25 & 0.942±0.005 \\\\\n",
      "1950±2 & 129864±360 & 146637±383 & 140104±374 & 1870 & 1737±10 &       17.83 & 0.938±0.006 \\\\\n",
      "1975±2 & 129545±360 & 160515±401 & 140515±375 & 1854 & 1719±10 &       17.84 & 0.936±0.006 \\\\\n",
      "\\bottomrule\n",
      "\\end{tabular}\n",
      "\n"
     ]
    }
   ],
   "source": [
    "df_eff2_print.drop(['err1','err2','err3','err_V','err_eff','err_tri'],axis=1,inplace=True)\n",
    "print(df_eff2_print.to_latex(index=False))"
   ]
  },
  {
   "cell_type": "code",
   "execution_count": 309,
   "id": "ee515e6d",
   "metadata": {},
   "outputs": [
    {
     "name": "stdout",
     "output_type": "stream",
     "text": [
      "\\begin{tabular}{llllrlrl}\n",
      "\\toprule\n",
      "     V &          1 &          2 &            3 &  1\\&2 &   1\\&2\\&3 &  doppie\\_acc &  efficienza \\\\\n",
      "\\midrule\n",
      "1500±2 & 107990±329 & 109758±331 &         87±9 & 2733 &    22±5 &       11.62 & 0.008±0.002 \\\\\n",
      "1525±2 & 108912±330 & 109573±331 &       298±17 & 2791 &    83±9 &       11.70 &  0.03±0.003 \\\\\n",
      "1550±2 & 108212±329 & 109628±331 &      1395±37 & 2747 &  257±15 &       11.63 & 0.094±0.005 \\\\\n",
      "1560±2 & 107425±328 & 109808±331 &      2573±51 & 2743 &  440±19 &       11.56 & 0.161±0.008 \\\\\n",
      "1575±2 & 107749±328 & 109709±331 &      4973±71 & 2779 &  662±22 &       11.58 & 0.239±0.011 \\\\\n",
      "1585±2 & 107559±328 & 110563±333 &      6468±80 & 2842 &  819±24 &       11.65 & 0.289±0.011 \\\\\n",
      "1595±2 & 107066±327 & 109347±331 &      9051±95 & 2792 & 1113±26 &       11.47 &    0.4±0.01 \\\\\n",
      "1600±2 & 108045±329 & 110262±332 &    10339±102 & 2787 & 1167±26 &       11.67 &  0.42±0.008 \\\\\n",
      "1625±2 & 107711±328 & 110826±333 &    16819±130 & 2841 & 1485±27 &       11.70 & 0.525±0.007 \\\\\n",
      "1650±2 & 122474±350 & 110794±333 &    23761±154 & 2849 & 1667±26 &       13.30 & 0.588±0.006 \\\\\n",
      "1675±2 & 107513±328 & 110036±332 &    41999±205 & 2808 & 1751±26 &       11.59 & 0.626±0.006 \\\\\n",
      "1700±2 & 108256±329 & 108938±330 &   185231±430 & 2808 & 1747±26 &       11.56 & 0.625±0.006 \\\\\n",
      "1725±2 & 107366±328 & 111006±333 &   514711±717 & 2829 & 1791±26 &       11.68 & 0.636±0.005 \\\\\n",
      "1800±2 & 107739±328 & 110693±333 & 1268543±1126 & 2823 & 1823±25 &       11.69 & 0.648±0.005 \\\\\n",
      "1900±2 & 107556±328 & 110035±332 & 2597806±1612 & 2767 & 1791±25 &       11.60 &  0.65±0.005 \\\\\n",
      "\\bottomrule\n",
      "\\end{tabular}\n",
      "\n"
     ]
    }
   ],
   "source": [
    "df_eff3_print=df_eff3.copy()\n",
    "df_eff3_print[\"V\"] = df_eff3[\"V\"].astype(str) + '±' + df_eff3[\"err_V\"].round(0).astype(int).astype(str)\n",
    "df_eff3_print['1']=df_eff3[\"1\"].astype(str) + '±' + df_eff3[\"err1\"].round(0).astype(int).astype(str)\n",
    "df_eff3_print['2']=df_eff3[\"2\"].astype(str) + '±' + df_eff3[\"err2\"].round(0).astype(int).astype(str)\n",
    "df_eff3_print['3']=df_eff3[\"3\"].astype(str) + '±' + df_eff3[\"err3\"].round(0).astype(int).astype(str)\n",
    "df_eff3_print['efficienza']=df_eff3[\"efficienza\"].round(3).astype(str) + '±' + df_eff2[\"err_eff\"].round(3).astype(str)\n",
    "df_eff3_print['doppie_acc']=df_eff3_print['doppie_acc'].round(2)\n",
    "df_eff3_print['1&2&3']=df_eff3[\"1&2&3\"].astype(str) + '±' + df_eff3[\"err_tri\"].round(0).astype(int).astype(str)\n",
    "df_eff3_print.drop(['err1','err2','err3','err_V','err_eff','err_tri'],axis=1,inplace=True)\n",
    "print(df_eff3_print.to_latex(index=False))"
   ]
  },
  {
   "cell_type": "code",
   "execution_count": null,
   "id": "f4863fbb",
   "metadata": {},
   "outputs": [],
   "source": [
    "df_eff1=pd.DataFrame({'1': [122607], '2': [111009],'3':[118695],'2&3':[2800],'1&2&3':[1733]})"
   ]
  },
  {
   "cell_type": "code",
   "execution_count": null,
   "id": "cfd84b54",
   "metadata": {},
   "outputs": [],
   "source": [
    "df_eff1['doppie_acc']=df_eff1['1']*df_eff1['2']*98*10**(-11)\n",
    "df_eff1['err1']=np.sqrt(df_eff1['1'])\n",
    "df_eff1['err2']=np.sqrt(df_eff1['2'])\n",
    "df_eff1['err3']=np.sqrt(df_eff1['3'])\n",
    "df_eff1['efficienza']=df_eff1['1&2&3']/(df_eff1['2&3']-df_eff1['doppie_acc'])\n",
    "#df_eff1['err_V']=(df_eff1['V']*0.0005+1)\n",
    "df_eff1['err_eff']=np.sqrt(df_eff1['efficienza']*(1-df_eff1['efficienza'])/(df_eff1['2&3']-df_eff1['doppie_acc']))\n",
    "df_eff1['err_tri']=np.sqrt(df_eff1['efficienza']*(1-df_eff1['efficienza'])*(df_eff1['2&3']-df_eff1['doppie_acc']))"
   ]
  },
  {
   "cell_type": "code",
   "execution_count": null,
   "id": "552114e7",
   "metadata": {},
   "outputs": [],
   "source": [
    "df_eff1"
   ]
  }
 ],
 "metadata": {
  "kernelspec": {
   "display_name": "Python 3 (ipykernel)",
   "language": "python",
   "name": "python3"
  },
  "language_info": {
   "codemirror_mode": {
    "name": "ipython",
    "version": 3
   },
   "file_extension": ".py",
   "mimetype": "text/x-python",
   "name": "python",
   "nbconvert_exporter": "python",
   "pygments_lexer": "ipython3",
   "version": "3.10.8"
  }
 },
 "nbformat": 4,
 "nbformat_minor": 5
}
