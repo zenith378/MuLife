{
 "cells": [
  {
   "cell_type": "code",
   "execution_count": 2,
   "id": "9b78497f",
   "metadata": {},
   "outputs": [],
   "source": [
    "import numpy as np\n",
    "import pandas as pd\n",
    "import matplotlib.pyplot as plt"
   ]
  },
  {
   "cell_type": "markdown",
   "id": "d60040b6",
   "metadata": {},
   "source": [
    "# Logbook esperineza MuLife"
   ]
  },
  {
   "cell_type": "markdown",
   "id": "ea78e8cc",
   "metadata": {},
   "source": [
    "## Determinazione Punti di Lavoro PMT"
   ]
  },
  {
   "cell_type": "markdown",
   "id": "5a1cba4d",
   "metadata": {},
   "source": [
    "### 15 Febbraio: \n",
    "Dimensioni scintillatori: \n",
    "- lastre di scintillatori (quelli del telescopio e qullo finale): 49.9 x 27.1 cm^2\n",
    "- blocco di scintillatore, tutto intero: 29.3 x 30.5 cm^2 (il lato di 30.5 cm è stato misurato molto ad occhio, vista la presenza di altri oggetti)\n",
    "\n",
    "Determinazione dei punti di lavoro:\n",
    "Per ciascun PMT misuriamo l'efficienza al variare, prima della sua tensione di alimentazione e poi della tensione di soglia del disciminatore. I punti di lavoro dei PMT usati come riferimento li impostiamo in maniera tale da visualizzare il segnale su entrambi ed essere il più efficienti possibili, cioè impostiamo una tensione di alimentazione alta, entro i limiti prestabiliti e come tensione di soglia ?. Decidiamo di determinare il punto di lavoro ottimale di ciascun pmt (alimentazione e soglia) dalla curva di efficienza (guardando il valore a cui abbiamo il ginocchio-punto di flesso) e non la curva dei conteggi in singola, poichè i pmt usati sono molto rumorosi, perciò servono almeno delle coincidenze doppie, meglio triple, per essere sicuri di acquisire segnali buoni.\n",
    "\n",
    "PMT7:\n",
    "- V_alim = 1719.95 V\n",
    "- V_thr = - 0.406 V\n",
    "- tau = 50 ns \n",
    "\n",
    "PMT5:\n",
    "- V_alim = 1699.99 V\n",
    "- V_thr = -0.397 V\n",
    "- tau \\simeq 55 ns\n",
    "Vediamo che, rispetto al PMT7, il PMT5 è più rumoroso.\n",
    "\n",
    "PMT4:\n",
    "- V_alim = 1720.04 V\n",
    "- V_thr = -0.417 V\n",
    "- tau $\\simeq$ 50 ns\n",
    "PMT4 è meno rumoroso del 5\n",
    "\n",
    "PMT3: per gli stessi punti di lavoro del PMT4 il 3 appare più rumoroso, perciò non lo useremo.\n",
    "\n",
    "PMT2:\n",
    "- V_alim = 1720.09 V\n",
    "- V_thr = -0.402 V\n",
    "- tau $\\simeq$ 50 ns\n",
    "\n",
    "PMT1:\n",
    "- V_alim = 1720.06 V\n",
    "- V_thr = -0.409 V\n",
    "- tau $\\simeq$ 50 ns\n",
    "\n",
    "CURVA DELL'EFFICIENZA PMT7:\n",
    "manteniamo i punti di lavoro definiti sopra per il PMT4 e PMT2 e variamo invece l'alimentazione del PMT7."
   ]
  },
  {
   "cell_type": "markdown",
   "id": "d7c09aad",
   "metadata": {},
   "source": [
    "## Efficienza PMTs"
   ]
  },
  {
   "cell_type": "markdown",
   "id": "5a97f93d",
   "metadata": {},
   "source": [
    "## PMT per segnale di start (7,4,2)"
   ]
  },
  {
   "cell_type": "code",
   "execution_count": 3,
   "id": "de8fc629",
   "metadata": {},
   "outputs": [],
   "source": [
    "df_eff2 = pd.read_csv(\"./Dati/Punto_di_lavor/PMT7.txt\",sep=\"\\t\")"
   ]
  },
  {
   "cell_type": "code",
   "execution_count": 4,
   "id": "b76c360b",
   "metadata": {},
   "outputs": [],
   "source": [
    "df_eff2['doppie_acc']=df_eff2['PMT4']*df_eff2['PMT2']*98*10**(-11)\n",
    "df_eff2['err7']=np.sqrt(df_eff2['PMT7'])\n",
    "df_eff2['err5']=np.sqrt(df_eff2['PMT4'])\n",
    "df_eff2['err2']=np.sqrt(df_eff2['PMT2'])"
   ]
  },
  {
   "cell_type": "code",
   "execution_count": 5,
   "id": "47b4993c",
   "metadata": {},
   "outputs": [],
   "source": [
    "df_eff2['efficienza']=df_eff2['7&4&2']/(df_eff2['4&2']-df_eff2['doppie_acc'])\n",
    "df_eff2['err_V']=(df_eff2['Alimentazione PMT7 [V]']*0.0005+1)\n",
    "df_eff2['err_eff']=np.sqrt(df_eff2['efficienza']*(1-df_eff2['efficienza'])/(df_eff2['4&2']-df_eff2['doppie_acc']))\n",
    "df_eff2['err_tri']=np.sqrt(df_eff2['efficienza']*(1-df_eff2['efficienza'])*(df_eff2['4&2']-df_eff2['doppie_acc']))"
   ]
  },
  {
   "cell_type": "code",
   "execution_count": 6,
   "id": "9777dbb4",
   "metadata": {},
   "outputs": [
    {
     "data": {
      "text/html": [
       "<div>\n",
       "<style scoped>\n",
       "    .dataframe tbody tr th:only-of-type {\n",
       "        vertical-align: middle;\n",
       "    }\n",
       "\n",
       "    .dataframe tbody tr th {\n",
       "        vertical-align: top;\n",
       "    }\n",
       "\n",
       "    .dataframe thead th {\n",
       "        text-align: right;\n",
       "    }\n",
       "</style>\n",
       "<table border=\"1\" class=\"dataframe\">\n",
       "  <thead>\n",
       "    <tr style=\"text-align: right;\">\n",
       "      <th></th>\n",
       "      <th>Alimentazione PMT7 [V]</th>\n",
       "      <th>PMT7</th>\n",
       "      <th>PMT4</th>\n",
       "      <th>PMT2</th>\n",
       "      <th>4&amp;2</th>\n",
       "      <th>7&amp;4&amp;2</th>\n",
       "      <th>doppie_acc</th>\n",
       "      <th>err7</th>\n",
       "      <th>err5</th>\n",
       "      <th>err2</th>\n",
       "      <th>efficienza</th>\n",
       "      <th>err_V</th>\n",
       "      <th>err_eff</th>\n",
       "      <th>err_tri</th>\n",
       "    </tr>\n",
       "  </thead>\n",
       "  <tbody>\n",
       "    <tr>\n",
       "      <th>0</th>\n",
       "      <td>1600.04</td>\n",
       "      <td>63</td>\n",
       "      <td>188513</td>\n",
       "      <td>2904</td>\n",
       "      <td>483</td>\n",
       "      <td>5</td>\n",
       "      <td>0.536493</td>\n",
       "      <td>7.937254</td>\n",
       "      <td>434.180838</td>\n",
       "      <td>53.888774</td>\n",
       "      <td>0.010363</td>\n",
       "      <td>1.800020</td>\n",
       "      <td>0.004611</td>\n",
       "      <td>2.224451</td>\n",
       "    </tr>\n",
       "    <tr>\n",
       "      <th>1</th>\n",
       "      <td>1649.95</td>\n",
       "      <td>356</td>\n",
       "      <td>176131</td>\n",
       "      <td>2790</td>\n",
       "      <td>509</td>\n",
       "      <td>25</td>\n",
       "      <td>0.481577</td>\n",
       "      <td>18.867962</td>\n",
       "      <td>419.679640</td>\n",
       "      <td>52.820451</td>\n",
       "      <td>0.049162</td>\n",
       "      <td>1.824975</td>\n",
       "      <td>0.009588</td>\n",
       "      <td>4.875545</td>\n",
       "    </tr>\n",
       "    <tr>\n",
       "      <th>2</th>\n",
       "      <td>1699.03</td>\n",
       "      <td>1102</td>\n",
       "      <td>187767</td>\n",
       "      <td>2858</td>\n",
       "      <td>547</td>\n",
       "      <td>94</td>\n",
       "      <td>0.525905</td>\n",
       "      <td>33.196385</td>\n",
       "      <td>433.320897</td>\n",
       "      <td>53.460266</td>\n",
       "      <td>0.172012</td>\n",
       "      <td>1.849515</td>\n",
       "      <td>0.016144</td>\n",
       "      <td>8.822182</td>\n",
       "    </tr>\n",
       "    <tr>\n",
       "      <th>3</th>\n",
       "      <td>1720.04</td>\n",
       "      <td>1659</td>\n",
       "      <td>184573</td>\n",
       "      <td>2761</td>\n",
       "      <td>516</td>\n",
       "      <td>115</td>\n",
       "      <td>0.499414</td>\n",
       "      <td>40.730824</td>\n",
       "      <td>429.619599</td>\n",
       "      <td>52.545219</td>\n",
       "      <td>0.223084</td>\n",
       "      <td>1.860020</td>\n",
       "      <td>0.018336</td>\n",
       "      <td>9.452266</td>\n",
       "    </tr>\n",
       "    <tr>\n",
       "      <th>4</th>\n",
       "      <td>1739.98</td>\n",
       "      <td>2925</td>\n",
       "      <td>177662</td>\n",
       "      <td>2690</td>\n",
       "      <td>495</td>\n",
       "      <td>129</td>\n",
       "      <td>0.468353</td>\n",
       "      <td>54.083269</td>\n",
       "      <td>421.499703</td>\n",
       "      <td>51.865210</td>\n",
       "      <td>0.260853</td>\n",
       "      <td>1.869990</td>\n",
       "      <td>0.019745</td>\n",
       "      <td>9.764731</td>\n",
       "    </tr>\n",
       "    <tr>\n",
       "      <th>5</th>\n",
       "      <td>1750.01</td>\n",
       "      <td>4072</td>\n",
       "      <td>186664</td>\n",
       "      <td>2797</td>\n",
       "      <td>479</td>\n",
       "      <td>170</td>\n",
       "      <td>0.511657</td>\n",
       "      <td>63.812225</td>\n",
       "      <td>432.046294</td>\n",
       "      <td>52.886671</td>\n",
       "      <td>0.355286</td>\n",
       "      <td>1.875005</td>\n",
       "      <td>0.021879</td>\n",
       "      <td>10.469071</td>\n",
       "    </tr>\n",
       "    <tr>\n",
       "      <th>6</th>\n",
       "      <td>1760.09</td>\n",
       "      <td>6179</td>\n",
       "      <td>191919</td>\n",
       "      <td>2572</td>\n",
       "      <td>496</td>\n",
       "      <td>191</td>\n",
       "      <td>0.483743</td>\n",
       "      <td>78.606615</td>\n",
       "      <td>438.085608</td>\n",
       "      <td>50.714889</td>\n",
       "      <td>0.385457</td>\n",
       "      <td>1.880045</td>\n",
       "      <td>0.021864</td>\n",
       "      <td>10.834103</td>\n",
       "    </tr>\n",
       "    <tr>\n",
       "      <th>7</th>\n",
       "      <td>1780.01</td>\n",
       "      <td>12725</td>\n",
       "      <td>197144</td>\n",
       "      <td>2752</td>\n",
       "      <td>495</td>\n",
       "      <td>192</td>\n",
       "      <td>0.531689</td>\n",
       "      <td>112.805142</td>\n",
       "      <td>444.009009</td>\n",
       "      <td>52.459508</td>\n",
       "      <td>0.388296</td>\n",
       "      <td>1.890005</td>\n",
       "      <td>0.021917</td>\n",
       "      <td>10.837306</td>\n",
       "    </tr>\n",
       "    <tr>\n",
       "      <th>8</th>\n",
       "      <td>1800.06</td>\n",
       "      <td>22608</td>\n",
       "      <td>184989</td>\n",
       "      <td>2810</td>\n",
       "      <td>474</td>\n",
       "      <td>188</td>\n",
       "      <td>0.509423</td>\n",
       "      <td>150.359569</td>\n",
       "      <td>430.103476</td>\n",
       "      <td>53.009433</td>\n",
       "      <td>0.397051</td>\n",
       "      <td>1.900030</td>\n",
       "      <td>0.022486</td>\n",
       "      <td>10.646801</td>\n",
       "    </tr>\n",
       "  </tbody>\n",
       "</table>\n",
       "</div>"
      ],
      "text/plain": [
       "   Alimentazione PMT7 [V]   PMT7    PMT4  PMT2  4&2  7&4&2  doppie_acc  \\\n",
       "0                 1600.04     63  188513  2904  483      5    0.536493   \n",
       "1                 1649.95    356  176131  2790  509     25    0.481577   \n",
       "2                 1699.03   1102  187767  2858  547     94    0.525905   \n",
       "3                 1720.04   1659  184573  2761  516    115    0.499414   \n",
       "4                 1739.98   2925  177662  2690  495    129    0.468353   \n",
       "5                 1750.01   4072  186664  2797  479    170    0.511657   \n",
       "6                 1760.09   6179  191919  2572  496    191    0.483743   \n",
       "7                 1780.01  12725  197144  2752  495    192    0.531689   \n",
       "8                 1800.06  22608  184989  2810  474    188    0.509423   \n",
       "\n",
       "         err7        err5       err2  efficienza     err_V   err_eff  \\\n",
       "0    7.937254  434.180838  53.888774    0.010363  1.800020  0.004611   \n",
       "1   18.867962  419.679640  52.820451    0.049162  1.824975  0.009588   \n",
       "2   33.196385  433.320897  53.460266    0.172012  1.849515  0.016144   \n",
       "3   40.730824  429.619599  52.545219    0.223084  1.860020  0.018336   \n",
       "4   54.083269  421.499703  51.865210    0.260853  1.869990  0.019745   \n",
       "5   63.812225  432.046294  52.886671    0.355286  1.875005  0.021879   \n",
       "6   78.606615  438.085608  50.714889    0.385457  1.880045  0.021864   \n",
       "7  112.805142  444.009009  52.459508    0.388296  1.890005  0.021917   \n",
       "8  150.359569  430.103476  53.009433    0.397051  1.900030  0.022486   \n",
       "\n",
       "     err_tri  \n",
       "0   2.224451  \n",
       "1   4.875545  \n",
       "2   8.822182  \n",
       "3   9.452266  \n",
       "4   9.764731  \n",
       "5  10.469071  \n",
       "6  10.834103  \n",
       "7  10.837306  \n",
       "8  10.646801  "
      ]
     },
     "execution_count": 6,
     "metadata": {},
     "output_type": "execute_result"
    }
   ],
   "source": [
    "df_eff2"
   ]
  },
  {
   "cell_type": "code",
   "execution_count": 7,
   "id": "8360fc46",
   "metadata": {},
   "outputs": [
    {
     "data": {
      "image/png": "[encoded data removed]",
      "text/plain": [
       "<Figure size 640x480 with 1 Axes>"
      ]
     },
     "metadata": {},
     "output_type": "display_data"
    }
   ],
   "source": [
    "fig_4=df_eff2.plot(x='Alimentazione PMT7 [V]',y='efficienza',\n",
    "             title='Efficiency of PMT7 vs voltage source', \n",
    "             xlabel='Voltage source [v]',ylabel='Efficiency',xerr='err_V',yerr='err_eff',style='.',color='green',linestyle='None'\n",
    "                ).get_figure()"
   ]
  },
  {
   "cell_type": "code",
   "execution_count": 48,
   "id": "84c3ae4c",
   "metadata": {},
   "outputs": [],
   "source": [
    "fig_4.savefig('./Plots/Punti di lavoro/eff_7.pdf')"
   ]
  },
  {
   "cell_type": "markdown",
   "id": "24c9610d",
   "metadata": {},
   "source": [
    "Dalla curva dell'efficienza del PMT7 decidiamo di utilizzare 1740 V come tensione di alimentazione. \n",
    "Procediamo analogamente con il PMT4. \n"
   ]
  },
  {
   "cell_type": "code",
   "execution_count": 8,
   "id": "4f3d91bc",
   "metadata": {},
   "outputs": [
    {
     "data": {
      "image/png": "[encoded data removed]",
      "text/plain": [
       "<Figure size 640x480 with 1 Axes>"
      ]
     },
     "metadata": {},
     "output_type": "display_data"
    }
   ],
   "source": [
    "df_eff3 = pd.read_csv(\"./Dati/Punto_di_lavor/PMT4.txt\",sep=\"\\t\")\n",
    "df_eff3['doppie_acc']=df_eff3['PMT7']*df_eff3['PMT2']*98*10**(-11)\n",
    "df_eff3['err1']=np.sqrt(df_eff3['PMT7'])\n",
    "df_eff3['err2']=np.sqrt(df_eff3['PMT4'])\n",
    "df_eff3['err3']=np.sqrt(df_eff3['PMT2'])\n",
    "df_eff3['efficienza']=df_eff3['7&4&2']/(df_eff3['7&2']-df_eff3['doppie_acc'])\n",
    "df_eff3['err_V']=(df_eff3['Alimentazione PMT4 [V]']*0.0005+1)\n",
    "df_eff3['err_eff']=np.sqrt(df_eff3['efficienza']*(1-df_eff3['efficienza'])/(df_eff3['7&2']-df_eff3['doppie_acc']))\n",
    "df_eff3['err_tri']=np.sqrt(df_eff3['efficienza']*(1-df_eff3['efficienza'])*(df_eff3['7&2']-df_eff3['doppie_acc']))\n",
    "fig_4=df_eff3.plot(x='Alimentazione PMT4 [V]',y='efficienza',\n",
    "             title='Efficiency of PMT4 vs voltage source', \n",
    "             xlabel='Voltage source [v]',ylabel='Efficiency',xerr='err_V',yerr='err_eff',style='.',color='green',linestyle='None'\n",
    "                ).get_figure()"
   ]
  },
  {
   "cell_type": "code",
   "execution_count": 9,
   "id": "21f69046",
   "metadata": {},
   "outputs": [
    {
     "data": {
      "text/html": [
       "<div>\n",
       "<style scoped>\n",
       "    .dataframe tbody tr th:only-of-type {\n",
       "        vertical-align: middle;\n",
       "    }\n",
       "\n",
       "    .dataframe tbody tr th {\n",
       "        vertical-align: top;\n",
       "    }\n",
       "\n",
       "    .dataframe thead th {\n",
       "        text-align: right;\n",
       "    }\n",
       "</style>\n",
       "<table border=\"1\" class=\"dataframe\">\n",
       "  <thead>\n",
       "    <tr style=\"text-align: right;\">\n",
       "      <th></th>\n",
       "      <th>Alimentazione PMT4 [V]</th>\n",
       "      <th>PMT7</th>\n",
       "      <th>PMT4</th>\n",
       "      <th>PMT2</th>\n",
       "      <th>7&amp;2</th>\n",
       "      <th>7&amp;4&amp;2</th>\n",
       "      <th>doppie_acc</th>\n",
       "      <th>err1</th>\n",
       "      <th>err2</th>\n",
       "      <th>err3</th>\n",
       "      <th>efficienza</th>\n",
       "      <th>err_V</th>\n",
       "      <th>err_eff</th>\n",
       "      <th>err_tri</th>\n",
       "    </tr>\n",
       "  </thead>\n",
       "  <tbody>\n",
       "    <tr>\n",
       "      <th>0</th>\n",
       "      <td>1550.04</td>\n",
       "      <td>2788</td>\n",
       "      <td>248</td>\n",
       "      <td>2718</td>\n",
       "      <td>155</td>\n",
       "      <td>16</td>\n",
       "      <td>0.007426</td>\n",
       "      <td>52.801515</td>\n",
       "      <td>15.748016</td>\n",
       "      <td>52.134442</td>\n",
       "      <td>0.103231</td>\n",
       "      <td>1.775020</td>\n",
       "      <td>0.024439</td>\n",
       "      <td>3.787916</td>\n",
       "    </tr>\n",
       "    <tr>\n",
       "      <th>1</th>\n",
       "      <td>1600.12</td>\n",
       "      <td>2720</td>\n",
       "      <td>1216</td>\n",
       "      <td>2685</td>\n",
       "      <td>159</td>\n",
       "      <td>65</td>\n",
       "      <td>0.007157</td>\n",
       "      <td>52.153619</td>\n",
       "      <td>34.871192</td>\n",
       "      <td>51.816986</td>\n",
       "      <td>0.408823</td>\n",
       "      <td>1.800060</td>\n",
       "      <td>0.038989</td>\n",
       "      <td>6.198909</td>\n",
       "    </tr>\n",
       "    <tr>\n",
       "      <th>2</th>\n",
       "      <td>1620.02</td>\n",
       "      <td>2848</td>\n",
       "      <td>5062</td>\n",
       "      <td>2680</td>\n",
       "      <td>143</td>\n",
       "      <td>83</td>\n",
       "      <td>0.007480</td>\n",
       "      <td>53.366656</td>\n",
       "      <td>71.147734</td>\n",
       "      <td>51.768716</td>\n",
       "      <td>0.580450</td>\n",
       "      <td>1.810010</td>\n",
       "      <td>0.041268</td>\n",
       "      <td>5.901072</td>\n",
       "    </tr>\n",
       "    <tr>\n",
       "      <th>3</th>\n",
       "      <td>1640.11</td>\n",
       "      <td>2771</td>\n",
       "      <td>18101</td>\n",
       "      <td>2708</td>\n",
       "      <td>134</td>\n",
       "      <td>87</td>\n",
       "      <td>0.007354</td>\n",
       "      <td>52.640289</td>\n",
       "      <td>134.539957</td>\n",
       "      <td>52.038447</td>\n",
       "      <td>0.649289</td>\n",
       "      <td>1.820055</td>\n",
       "      <td>0.041224</td>\n",
       "      <td>5.523751</td>\n",
       "    </tr>\n",
       "    <tr>\n",
       "      <th>4</th>\n",
       "      <td>1680.18</td>\n",
       "      <td>2794</td>\n",
       "      <td>76977</td>\n",
       "      <td>2664</td>\n",
       "      <td>145</td>\n",
       "      <td>132</td>\n",
       "      <td>0.007294</td>\n",
       "      <td>52.858301</td>\n",
       "      <td>277.447292</td>\n",
       "      <td>51.613952</td>\n",
       "      <td>0.910391</td>\n",
       "      <td>1.840090</td>\n",
       "      <td>0.023720</td>\n",
       "      <td>3.439250</td>\n",
       "    </tr>\n",
       "    <tr>\n",
       "      <th>5</th>\n",
       "      <td>1650.06</td>\n",
       "      <td>2838</td>\n",
       "      <td>27997</td>\n",
       "      <td>2692</td>\n",
       "      <td>137</td>\n",
       "      <td>105</td>\n",
       "      <td>0.007487</td>\n",
       "      <td>53.272882</td>\n",
       "      <td>167.323041</td>\n",
       "      <td>51.884487</td>\n",
       "      <td>0.766465</td>\n",
       "      <td>1.825030</td>\n",
       "      <td>0.036147</td>\n",
       "      <td>4.951883</td>\n",
       "    </tr>\n",
       "    <tr>\n",
       "      <th>6</th>\n",
       "      <td>1700.09</td>\n",
       "      <td>2800</td>\n",
       "      <td>111064</td>\n",
       "      <td>2730</td>\n",
       "      <td>178</td>\n",
       "      <td>157</td>\n",
       "      <td>0.007491</td>\n",
       "      <td>52.915026</td>\n",
       "      <td>333.262659</td>\n",
       "      <td>52.249402</td>\n",
       "      <td>0.882060</td>\n",
       "      <td>1.850045</td>\n",
       "      <td>0.024176</td>\n",
       "      <td>4.303097</td>\n",
       "    </tr>\n",
       "    <tr>\n",
       "      <th>7</th>\n",
       "      <td>1750.19</td>\n",
       "      <td>2743</td>\n",
       "      <td>1198536</td>\n",
       "      <td>2703</td>\n",
       "      <td>145</td>\n",
       "      <td>134</td>\n",
       "      <td>0.007266</td>\n",
       "      <td>52.373658</td>\n",
       "      <td>1094.776690</td>\n",
       "      <td>51.990384</td>\n",
       "      <td>0.924184</td>\n",
       "      <td>1.875095</td>\n",
       "      <td>0.021983</td>\n",
       "      <td>3.187367</td>\n",
       "    </tr>\n",
       "  </tbody>\n",
       "</table>\n",
       "</div>"
      ],
      "text/plain": [
       "   Alimentazione PMT4 [V]  PMT7     PMT4  PMT2  7&2  7&4&2  doppie_acc  \\\n",
       "0                 1550.04  2788      248  2718  155     16    0.007426   \n",
       "1                 1600.12  2720     1216  2685  159     65    0.007157   \n",
       "2                 1620.02  2848     5062  2680  143     83    0.007480   \n",
       "3                 1640.11  2771    18101  2708  134     87    0.007354   \n",
       "4                 1680.18  2794    76977  2664  145    132    0.007294   \n",
       "5                 1650.06  2838    27997  2692  137    105    0.007487   \n",
       "6                 1700.09  2800   111064  2730  178    157    0.007491   \n",
       "7                 1750.19  2743  1198536  2703  145    134    0.007266   \n",
       "\n",
       "        err1         err2       err3  efficienza     err_V   err_eff   err_tri  \n",
       "0  52.801515    15.748016  52.134442    0.103231  1.775020  0.024439  3.787916  \n",
       "1  52.153619    34.871192  51.816986    0.408823  1.800060  0.038989  6.198909  \n",
       "2  53.366656    71.147734  51.768716    0.580450  1.810010  0.041268  5.901072  \n",
       "3  52.640289   134.539957  52.038447    0.649289  1.820055  0.041224  5.523751  \n",
       "4  52.858301   277.447292  51.613952    0.910391  1.840090  0.023720  3.439250  \n",
       "5  53.272882   167.323041  51.884487    0.766465  1.825030  0.036147  4.951883  \n",
       "6  52.915026   333.262659  52.249402    0.882060  1.850045  0.024176  4.303097  \n",
       "7  52.373658  1094.776690  51.990384    0.924184  1.875095  0.021983  3.187367  "
      ]
     },
     "execution_count": 9,
     "metadata": {},
     "output_type": "execute_result"
    }
   ],
   "source": [
    "df_eff3"
   ]
  },
  {
   "cell_type": "code",
   "execution_count": 49,
   "id": "8d64482d",
   "metadata": {},
   "outputs": [],
   "source": [
    "fig_4.savefig('./Plots/Punti di lavoro/eff_4.pdf')"
   ]
  },
  {
   "cell_type": "markdown",
   "id": "bb9711fe",
   "metadata": {},
   "source": [
    "Dalla curva sull'efficienza del PMT4 decidiamo di impostare come alimentazione 1650 V. Ripetiamo per il PMT2, usando PMT7 e PMT4 come riferimento."
   ]
  },
  {
   "cell_type": "code",
   "execution_count": 10,
   "id": "3a8ab727",
   "metadata": {},
   "outputs": [],
   "source": [
    "df_eff1 = pd.read_csv(\"./Dati/Punto_di_lavor/PMT2.txt\",sep=\"\\t\")"
   ]
  },
  {
   "cell_type": "code",
   "execution_count": 14,
   "id": "7494c35f",
   "metadata": {},
   "outputs": [
    {
     "data": {
      "image/png": "[encoded data removed]",
      "text/plain": [
       "<Figure size 640x480 with 1 Axes>"
      ]
     },
     "metadata": {},
     "output_type": "display_data"
    }
   ],
   "source": [
    "df_eff1 = pd.read_csv(\"./Dati/Punto_di_lavor/PMT2.txt\",sep=\"\\t\")\n",
    "df_eff1['doppie_acc']=df_eff1['PMT7']*df_eff1['PMT4']*98*10**(-11)\n",
    "df_eff1['err1']=np.sqrt(df_eff1['PMT7'])\n",
    "df_eff1['err2']=np.sqrt(df_eff1['PMT4'])\n",
    "df_eff1['err3']=np.sqrt(df_eff1['PMT2'])\n",
    "df_eff1['efficienza1']=df_eff1['7&4&2']/(df_eff1['7&4']-df_eff1['doppie_acc'])\n",
    "df_eff1['err_V']=(df_eff1['Alimentazione PMT2 [V]']*0.0005+1)*2\n",
    "df_eff1['err_eff1']=np.sqrt(df_eff1['efficienza1']*(1-df_eff1['efficienza1'])/df_eff1['7&4'])*2\n",
    "fig_4=df_eff1.plot(x='Alimentazione PMT2 [V]',y='efficienza1',\n",
    "             title='Efficiency of PMT2 vs voltage source', \n",
    "             xlabel='Voltage source [V]',ylabel='Efficiency',xerr='err_V',yerr='err_eff1',style='.',color='green',linestyle='None'\n",
    "                ).get_figure()\n",
    "fig_4.savefig('./Plots/Punti di lavoro/eff_2.pdf')"
   ]
  },
  {
   "cell_type": "code",
   "execution_count": 15,
   "id": "9c5c51fd",
   "metadata": {},
   "outputs": [
    {
     "data": {
      "text/html": [
       "<div>\n",
       "<style scoped>\n",
       "    .dataframe tbody tr th:only-of-type {\n",
       "        vertical-align: middle;\n",
       "    }\n",
       "\n",
       "    .dataframe tbody tr th {\n",
       "        vertical-align: top;\n",
       "    }\n",
       "\n",
       "    .dataframe thead th {\n",
       "        text-align: right;\n",
       "    }\n",
       "</style>\n",
       "<table border=\"1\" class=\"dataframe\">\n",
       "  <thead>\n",
       "    <tr style=\"text-align: right;\">\n",
       "      <th></th>\n",
       "      <th>Alimentazione PMT2 [V]</th>\n",
       "      <th>PMT7</th>\n",
       "      <th>PMT4</th>\n",
       "      <th>PMT2</th>\n",
       "      <th>7&amp;4</th>\n",
       "      <th>7&amp;4&amp;2</th>\n",
       "      <th>doppie_acc</th>\n",
       "      <th>err1</th>\n",
       "      <th>err2</th>\n",
       "      <th>err3</th>\n",
       "      <th>efficienza1</th>\n",
       "      <th>err_V</th>\n",
       "      <th>err_eff1</th>\n",
       "    </tr>\n",
       "  </thead>\n",
       "  <tbody>\n",
       "    <tr>\n",
       "      <th>0</th>\n",
       "      <td>1600.15</td>\n",
       "      <td>2634</td>\n",
       "      <td>28677</td>\n",
       "      <td>340</td>\n",
       "      <td>449</td>\n",
       "      <td>8</td>\n",
       "      <td>0.074025</td>\n",
       "      <td>51.322510</td>\n",
       "      <td>169.342848</td>\n",
       "      <td>18.439089</td>\n",
       "      <td>0.017820</td>\n",
       "      <td>3.60015</td>\n",
       "      <td>0.012487</td>\n",
       "    </tr>\n",
       "    <tr>\n",
       "      <th>1</th>\n",
       "      <td>1650.06</td>\n",
       "      <td>2601</td>\n",
       "      <td>26152</td>\n",
       "      <td>957</td>\n",
       "      <td>478</td>\n",
       "      <td>51</td>\n",
       "      <td>0.066661</td>\n",
       "      <td>51.000000</td>\n",
       "      <td>161.715800</td>\n",
       "      <td>30.935417</td>\n",
       "      <td>0.106709</td>\n",
       "      <td>3.65006</td>\n",
       "      <td>0.028243</td>\n",
       "    </tr>\n",
       "    <tr>\n",
       "      <th>2</th>\n",
       "      <td>1700.04</td>\n",
       "      <td>2752</td>\n",
       "      <td>28797</td>\n",
       "      <td>2039</td>\n",
       "      <td>498</td>\n",
       "      <td>102</td>\n",
       "      <td>0.077664</td>\n",
       "      <td>52.459508</td>\n",
       "      <td>169.696788</td>\n",
       "      <td>45.155288</td>\n",
       "      <td>0.204851</td>\n",
       "      <td>3.70004</td>\n",
       "      <td>0.036171</td>\n",
       "    </tr>\n",
       "    <tr>\n",
       "      <th>3</th>\n",
       "      <td>1750.07</td>\n",
       "      <td>2703</td>\n",
       "      <td>28971</td>\n",
       "      <td>3981</td>\n",
       "      <td>476</td>\n",
       "      <td>141</td>\n",
       "      <td>0.076742</td>\n",
       "      <td>51.990384</td>\n",
       "      <td>170.208695</td>\n",
       "      <td>63.095166</td>\n",
       "      <td>0.296266</td>\n",
       "      <td>3.75007</td>\n",
       "      <td>0.041857</td>\n",
       "    </tr>\n",
       "    <tr>\n",
       "      <th>4</th>\n",
       "      <td>1800.01</td>\n",
       "      <td>2611</td>\n",
       "      <td>26711</td>\n",
       "      <td>7069</td>\n",
       "      <td>462</td>\n",
       "      <td>174</td>\n",
       "      <td>0.068348</td>\n",
       "      <td>51.097945</td>\n",
       "      <td>163.435002</td>\n",
       "      <td>84.077345</td>\n",
       "      <td>0.376679</td>\n",
       "      <td>3.80001</td>\n",
       "      <td>0.045087</td>\n",
       "    </tr>\n",
       "  </tbody>\n",
       "</table>\n",
       "</div>"
      ],
      "text/plain": [
       "   Alimentazione PMT2 [V]  PMT7   PMT4  PMT2  7&4  7&4&2  doppie_acc  \\\n",
       "0                 1600.15  2634  28677   340  449      8    0.074025   \n",
       "1                 1650.06  2601  26152   957  478     51    0.066661   \n",
       "2                 1700.04  2752  28797  2039  498    102    0.077664   \n",
       "3                 1750.07  2703  28971  3981  476    141    0.076742   \n",
       "4                 1800.01  2611  26711  7069  462    174    0.068348   \n",
       "\n",
       "        err1        err2       err3  efficienza1    err_V  err_eff1  \n",
       "0  51.322510  169.342848  18.439089     0.017820  3.60015  0.012487  \n",
       "1  51.000000  161.715800  30.935417     0.106709  3.65006  0.028243  \n",
       "2  52.459508  169.696788  45.155288     0.204851  3.70004  0.036171  \n",
       "3  51.990384  170.208695  63.095166     0.296266  3.75007  0.041857  \n",
       "4  51.097945  163.435002  84.077345     0.376679  3.80001  0.045087  "
      ]
     },
     "execution_count": 15,
     "metadata": {},
     "output_type": "execute_result"
    }
   ],
   "source": [
    "df_eff1"
   ]
  },
  {
   "cell_type": "code",
   "execution_count": 16,
   "id": "32cd9074",
   "metadata": {},
   "outputs": [
    {
     "data": {
      "image/png": "[encoded data removed]",
      "text/plain": [
       "<Figure size 640x480 with 1 Axes>"
      ]
     },
     "metadata": {},
     "output_type": "display_data"
    }
   ],
   "source": [
    "fig = plt.figure()\n",
    "\n",
    "plt.errorbar(df_eff1['Alimentazione PMT2 [V]'],df_eff1['efficienza1'],\n",
    "             xerr=df_eff1['err_V'],yerr=df_eff1['err_eff1'],label='PMT2',linestyle='None',elinewidth=1,\n",
    "             ecolor='blue')\n",
    "\n",
    "plt.errorbar(df_eff2['Alimentazione PMT7 [V]'],df_eff2['efficienza'],\n",
    "             xerr=df_eff2['err_V'],yerr=df_eff2['err_eff'],label='PMT7',linestyle='None',elinewidth=1,\n",
    "             ecolor='#ff7f0e')\n",
    "\n",
    "plt.errorbar(df_eff3['Alimentazione PMT4 [V]'],df_eff3['efficienza'],\n",
    "\n",
    "             xerr=df_eff3['err_V'],yerr=df_eff3['err_eff'],label='PMT4',linestyle='None',elinewidth=1,\n",
    "             ecolor='#2ca02c')\n",
    "\n",
    "#fig.text(0.65, 0.37, \"Errorbars multiplied by 2\", fontsize=10, \n",
    "         #ha='center',bbox={'facecolor': 'white', 'alpha': 0.5, 'pad': 10})\n",
    "\n",
    "plt.xlabel('Voltage source [V]')\n",
    "plt.ylabel('Efficiency')\n",
    "plt.title('Efficiency vs voltage source')\n",
    "plt.legend()\n",
    "plt.savefig('./Plots/Punti di lavoro/eff.pdf')\n",
    "plt.show()"
   ]
  },
  {
   "cell_type": "markdown",
   "id": "9d41d3b2",
   "metadata": {},
   "source": [
    "Impostiamo quindi V_alim del PMT2 a 1750 V."
   ]
  },
  {
   "cell_type": "markdown",
   "id": "05f5638d",
   "metadata": {},
   "source": [
    "## PMT per decadimento (8,9,10,11)"
   ]
  },
  {
   "cell_type": "markdown",
   "id": "ce72b509",
   "metadata": {},
   "source": [
    "Osserviamo i segnali del PMT8. Impostiamo un'alimentazione di 1126 V e una soglia del discriminatore di 0.177 V."
   ]
  },
  {
   "cell_type": "markdown",
   "id": "39d5d02c",
   "metadata": {},
   "source": [
    "## Segnale di Start"
   ]
  },
  {
   "cell_type": "markdown",
   "id": "5be09c80",
   "metadata": {},
   "source": [
    "## Segnale di Stop"
   ]
  },
  {
   "cell_type": "markdown",
   "id": "f5fdccb8",
   "metadata": {},
   "source": [
    "## Acquisizione segnali con FPGA"
   ]
  },
  {
   "cell_type": "markdown",
   "id": "a3a5cb14",
   "metadata": {},
   "source": [
    "## Prima Acquisizione dati per MuLife"
   ]
  },
  {
   "cell_type": "markdown",
   "id": "53dcfde1",
   "metadata": {},
   "source": [
    "## Errori Sistematici"
   ]
  },
  {
   "cell_type": "markdown",
   "id": "556d575f",
   "metadata": {},
   "source": [
    "## Alterazione vita media del muone negativo dalla interazione con il materiale scintillatore"
   ]
  },
  {
   "cell_type": "markdown",
   "id": "57414a22",
   "metadata": {},
   "source": [
    "## Spettro in energia dell'elettrone di decadimento"
   ]
  },
  {
   "cell_type": "markdown",
   "id": "5a02795b",
   "metadata": {},
   "source": [
    "### Calibrazione del modulo di amplificazione di carica"
   ]
  },
  {
   "cell_type": "markdown",
   "id": "855ebb2b",
   "metadata": {},
   "source": [
    "### Altro..."
   ]
  },
  {
   "cell_type": "code",
   "execution_count": 303,
   "id": "78fc4fc9",
   "metadata": {},
   "outputs": [],
   "source": [
    "df_eff2_print=df_eff2.copy()"
   ]
  },
  {
   "cell_type": "code",
   "execution_count": 304,
   "id": "b3ddedd6",
   "metadata": {},
   "outputs": [],
   "source": [
    "df_eff2_print[\"V\"] = df_eff2[\"V\"].astype(str) + '±' + df_eff2[\"err_V\"].round(0).astype(int).astype(str)\n",
    "df_eff2_print['1']=df_eff2[\"1\"].astype(str) + '±' + df_eff2[\"err1\"].round(0).astype(int).astype(str)\n",
    "df_eff2_print['2']=df_eff2[\"2\"].astype(str) + '±' + df_eff2[\"err2\"].round(0).astype(int).astype(str)\n",
    "df_eff2_print['3']=df_eff2[\"3\"].astype(str) + '±' + df_eff2[\"err3\"].round(0).astype(int).astype(str)\n",
    "df_eff2_print['efficienza']=df_eff2[\"efficienza\"].round(3).astype(str) + '±' + df_eff2[\"err_eff\"].round(3).astype(str)\n",
    "df_eff2_print['doppie_acc']=df_eff2_print['doppie_acc'].round(2)\n",
    "df_eff2_print['1&2&3']=df_eff2[\"1&2&3\"].astype(str) + '±' + df_eff2[\"err_tri\"].round(0).astype(int).astype(str)"
   ]
  },
  {
   "cell_type": "code",
   "execution_count": 305,
   "id": "42da3152",
   "metadata": {},
   "outputs": [
    {
     "name": "stdout",
     "output_type": "stream",
     "text": [
      "\\begin{tabular}{llllrlrl}\n",
      "\\toprule\n",
      "     V &          1 &          2 &          3 &  1\\&3 &   1\\&2\\&3 &  doppie\\_acc &  efficienza \\\\\n",
      "\\midrule\n",
      "1500±2 & 117786±343 &       43±7 & 124865±353 & 1787 &    14±4 &       14.41 & 0.008±0.002 \\\\\n",
      "1525±2 & 118337±344 &     116±11 & 127691±357 & 1861 &    28±5 &       14.81 & 0.015±0.003 \\\\\n",
      "1550±2 & 114947±339 &     300±17 & 125546±354 & 1828 &    80±9 &       14.14 & 0.044±0.005 \\\\\n",
      "1575±2 & 128549±359 &     757±28 & 129436±360 & 1827 &  249±15 &       16.31 & 0.138±0.008 \\\\\n",
      "1600±2 & 127551±357 &    1751±42 & 131284±362 & 1843 &  587±20 &       16.41 & 0.321±0.011 \\\\\n",
      "1625±2 & 128204±358 &    3351±58 & 134213±366 & 1859 & 1119±21 &       16.86 & 0.607±0.011 \\\\\n",
      "1650±2 & 128634±359 &    5329±73 & 131384±362 & 1890 & 1428±18 &       16.56 &  0.762±0.01 \\\\\n",
      "1675±2 & 128860±359 &    7889±89 & 128064±358 & 1848 & 1571±15 &       16.17 & 0.858±0.008 \\\\\n",
      "1700±2 & 128641±359 &  11111±105 & 129291±360 & 1875 & 1662±13 &       16.30 & 0.894±0.007 \\\\\n",
      "1725±2 & 129554±360 &  18862±137 & 130067±361 & 1815 & 1660±11 &       16.51 & 0.923±0.006 \\\\\n",
      "1750±2 & 127625±357 &  43924±210 & 130924±362 & 1834 & 1695±11 &       16.37 & 0.933±0.006 \\\\\n",
      "1775±2 & 119732±346 &  70821±266 & 131098±362 & 1859 & 1727±10 &       15.38 & 0.937±0.006 \\\\\n",
      "1800±2 & 130415±361 &  91787±303 & 135149±368 & 1829 & 1710±10 &       17.27 & 0.944±0.005 \\\\\n",
      "1825±2 & 119721±346 & 100983±318 & 130939±362 & 1877 & 1757±10 &       15.36 & 0.944±0.005 \\\\\n",
      "1850±2 & 129063±359 & 108456±329 & 136933±370 & 1803 &  1695±9 &       17.32 & 0.949±0.005 \\\\\n",
      "1875±2 & 121924±349 & 115721±340 & 131275±362 & 1818 & 1707±10 &       15.69 & 0.947±0.005 \\\\\n",
      "1900±2 & 129124±359 & 124731±353 & 139023±373 & 1906 & 1778±10 &       17.59 & 0.942±0.005 \\\\\n",
      "1925±2 & 129222±359 & 133572±365 & 136182±369 & 1868 & 1744±10 &       17.25 & 0.942±0.005 \\\\\n",
      "1950±2 & 129864±360 & 146637±383 & 140104±374 & 1870 & 1737±10 &       17.83 & 0.938±0.006 \\\\\n",
      "1975±2 & 129545±360 & 160515±401 & 140515±375 & 1854 & 1719±10 &       17.84 & 0.936±0.006 \\\\\n",
      "\\bottomrule\n",
      "\\end{tabular}\n",
      "\n"
     ]
    }
   ],
   "source": [
    "df_eff2_print.drop(['err1','err2','err3','err_V','err_eff','err_tri'],axis=1,inplace=True)\n",
    "print(df_eff2_print.to_latex(index=False))"
   ]
  },
  {
   "cell_type": "code",
   "execution_count": 309,
   "id": "ee515e6d",
   "metadata": {},
   "outputs": [
    {
     "name": "stdout",
     "output_type": "stream",
     "text": [
      "\\begin{tabular}{llllrlrl}\n",
      "\\toprule\n",
      "     V &          1 &          2 &            3 &  1\\&2 &   1\\&2\\&3 &  doppie\\_acc &  efficienza \\\\\n",
      "\\midrule\n",
      "1500±2 & 107990±329 & 109758±331 &         87±9 & 2733 &    22±5 &       11.62 & 0.008±0.002 \\\\\n",
      "1525±2 & 108912±330 & 109573±331 &       298±17 & 2791 &    83±9 &       11.70 &  0.03±0.003 \\\\\n",
      "1550±2 & 108212±329 & 109628±331 &      1395±37 & 2747 &  257±15 &       11.63 & 0.094±0.005 \\\\\n",
      "1560±2 & 107425±328 & 109808±331 &      2573±51 & 2743 &  440±19 &       11.56 & 0.161±0.008 \\\\\n",
      "1575±2 & 107749±328 & 109709±331 &      4973±71 & 2779 &  662±22 &       11.58 & 0.239±0.011 \\\\\n",
      "1585±2 & 107559±328 & 110563±333 &      6468±80 & 2842 &  819±24 &       11.65 & 0.289±0.011 \\\\\n",
      "1595±2 & 107066±327 & 109347±331 &      9051±95 & 2792 & 1113±26 &       11.47 &    0.4±0.01 \\\\\n",
      "1600±2 & 108045±329 & 110262±332 &    10339±102 & 2787 & 1167±26 &       11.67 &  0.42±0.008 \\\\\n",
      "1625±2 & 107711±328 & 110826±333 &    16819±130 & 2841 & 1485±27 &       11.70 & 0.525±0.007 \\\\\n",
      "1650±2 & 122474±350 & 110794±333 &    23761±154 & 2849 & 1667±26 &       13.30 & 0.588±0.006 \\\\\n",
      "1675±2 & 107513±328 & 110036±332 &    41999±205 & 2808 & 1751±26 &       11.59 & 0.626±0.006 \\\\\n",
      "1700±2 & 108256±329 & 108938±330 &   185231±430 & 2808 & 1747±26 &       11.56 & 0.625±0.006 \\\\\n",
      "1725±2 & 107366±328 & 111006±333 &   514711±717 & 2829 & 1791±26 &       11.68 & 0.636±0.005 \\\\\n",
      "1800±2 & 107739±328 & 110693±333 & 1268543±1126 & 2823 & 1823±25 &       11.69 & 0.648±0.005 \\\\\n",
      "1900±2 & 107556±328 & 110035±332 & 2597806±1612 & 2767 & 1791±25 &       11.60 &  0.65±0.005 \\\\\n",
      "\\bottomrule\n",
      "\\end{tabular}\n",
      "\n"
     ]
    }
   ],
   "source": [
    "df_eff3_print=df_eff3.copy()\n",
    "df_eff3_print[\"V\"] = df_eff3[\"V\"].astype(str) + '±' + df_eff3[\"err_V\"].round(0).astype(int).astype(str)\n",
    "df_eff3_print['1']=df_eff3[\"1\"].astype(str) + '±' + df_eff3[\"err1\"].round(0).astype(int).astype(str)\n",
    "df_eff3_print['2']=df_eff3[\"2\"].astype(str) + '±' + df_eff3[\"err2\"].round(0).astype(int).astype(str)\n",
    "df_eff3_print['3']=df_eff3[\"3\"].astype(str) + '±' + df_eff3[\"err3\"].round(0).astype(int).astype(str)\n",
    "df_eff3_print['efficienza']=df_eff3[\"efficienza\"].round(3).astype(str) + '±' + df_eff2[\"err_eff\"].round(3).astype(str)\n",
    "df_eff3_print['doppie_acc']=df_eff3_print['doppie_acc'].round(2)\n",
    "df_eff3_print['1&2&3']=df_eff3[\"1&2&3\"].astype(str) + '±' + df_eff3[\"err_tri\"].round(0).astype(int).astype(str)\n",
    "df_eff3_print.drop(['err1','err2','err3','err_V','err_eff','err_tri'],axis=1,inplace=True)\n",
    "print(df_eff3_print.to_latex(index=False))"
   ]
  },
  {
   "cell_type": "code",
   "execution_count": null,
   "id": "f4863fbb",
   "metadata": {},
   "outputs": [],
   "source": [
    "df_eff1=pd.DataFrame({'1': [122607], '2': [111009],'3':[118695],'2&3':[2800],'1&2&3':[1733]})"
   ]
  },
  {
   "cell_type": "code",
   "execution_count": null,
   "id": "cfd84b54",
   "metadata": {},
   "outputs": [],
   "source": [
    "df_eff1['doppie_acc']=df_eff1['1']*df_eff1['2']*98*10**(-11)\n",
    "df_eff1['err1']=np.sqrt(df_eff1['1'])\n",
    "df_eff1['err2']=np.sqrt(df_eff1['2'])\n",
    "df_eff1['err3']=np.sqrt(df_eff1['3'])\n",
    "df_eff1['efficienza']=df_eff1['1&2&3']/(df_eff1['2&3']-df_eff1['doppie_acc'])\n",
    "#df_eff1['err_V']=(df_eff1['V']*0.0005+1)\n",
    "df_eff1['err_eff']=np.sqrt(df_eff1['efficienza']*(1-df_eff1['efficienza'])/(df_eff1['2&3']-df_eff1['doppie_acc']))\n",
    "df_eff1['err_tri']=np.sqrt(df_eff1['efficienza']*(1-df_eff1['efficienza'])*(df_eff1['2&3']-df_eff1['doppie_acc']))"
   ]
  },
  {
   "cell_type": "code",
   "execution_count": null,
   "id": "552114e7",
   "metadata": {},
   "outputs": [],
   "source": [
    "df_eff1"
   ]
  }
 ],
 "metadata": {
  "kernelspec": {
   "display_name": "Python 3 (ipykernel)",
   "language": "python",
   "name": "python3"
  },
  "language_info": {
   "codemirror_mode": {
    "name": "ipython",
    "version": 3
   },
   "file_extension": ".py",
   "mimetype": "text/x-python",
   "name": "python",
   "nbconvert_exporter": "python",
   "pygments_lexer": "ipython3",
   "version": "3.10.8"
  }
 },
 "nbformat": 4,
 "nbformat_minor": 5
}
